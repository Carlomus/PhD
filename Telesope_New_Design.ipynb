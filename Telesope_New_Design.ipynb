{
 "cells": [
  {
   "cell_type": "markdown",
   "metadata": {},
   "source": [
    "## First theoretical calculations for an Achromatic Beam Line in First & Second Order \n",
    "\n",
    "## C. Mussolini and N. Charitonidis (for internal use only)\n",
    "\n",
    "## TRANSPORT manual to be taken into consideration : https://cds.cern.ch/record/133647/files/CERN-80-04.pdf\n",
    "##  And mathematical framework for the matrices theory : http://inspirehep.net/record/187522/files/slac-r-075.pdf"
   ]
  },
  {
   "cell_type": "code",
   "execution_count": 1,
   "metadata": {},
   "outputs": [
    {
     "name": "stdout",
     "output_type": "stream",
     "text": [
      "Everything imported\n"
     ]
    }
   ],
   "source": [
    "from math import *\n",
    "import holoviews as hv\n",
    "import numpy as np\n",
    "import matplotlib.pyplot as plt\n",
    "import sympy as sy\n",
    "from scipy.linalg import block_diag\n",
    "sy.init_printing()\n",
    "#hv.notebook_extension('bokeh', 'matplotlib')\n",
    "%matplotlib inline\n",
    "\n",
    "print(\"Everything imported\")"
   ]
  },
  {
   "cell_type": "code",
   "execution_count": 2,
   "metadata": {},
   "outputs": [],
   "source": [
    "def Create_Drift_Space(drift_lenght_symbol):\n",
    "   \n",
    "    Ld = drift_lenght_symbol\n",
    "    magnet = {'matrix' : sy.Matrix([[1,Ld],[0,1]]),\n",
    "              'type'   : 'drift',\n",
    "              'length' : Ld/2\n",
    "             }\n",
    "    return(magnet)\n",
    "\n",
    "def Create_Focusing_Magnet(focusing_symbol, aperture):\n",
    "    \n",
    "    f = focusing_symbol      \n",
    "    magnet = { 'matrix' : sy.Matrix([[1,0],[-1/f, 1]]), \n",
    "               'apt' : aperture,\n",
    "               'type': 'focus',\n",
    "               'length' : 0\n",
    "             }\n",
    "    return(magnet)\n",
    "    \n",
    "def Create_Defocusing_Magnet(focusing_symbol, aperture):\n",
    "    \n",
    "    f = focusing_symbol \n",
    "    magnet = { 'matrix' : sy.Matrix([[1,0],[1/f, 1]]), \n",
    "               'apt' : aperture,\n",
    "               'type': 'defocus',\n",
    "               'length' : 0\n",
    "             }\n",
    "\n",
    "    return(magnet)"
   ]
  },
  {
   "cell_type": "code",
   "execution_count": 3,
   "metadata": {},
   "outputs": [],
   "source": [
    "def Full_R_Matrix(R_matrix_x, R_matrix_y): #This combines the x and y R matrices to easily extract the components\n",
    "    \n",
    "    R_matrix = sy.Matrix(block_diag(R_matrix_x, R_matrix_y))\n",
    "    \n",
    "    return(R_matrix)\n",
    "\n",
    "def Matrix_eval(matrix, var_1, var_2, var_3, var_4, distance, focusing, a, b): #Evaluates a symbolic matrix into a numerical one\n",
    "    \n",
    "    expr = sy.lambdify([var_1, var_2, var_3, var_4], matrix, \"numpy\") \n",
    "    values = expr(distance, focusing, a, b)\n",
    "    \n",
    "    return(values)\n",
    "    \n",
    "def check_a_over_b(a,b): #This function checks for 0/0 and if it finds it returns a 0\n",
    "    \n",
    "    if a == 0 and b == 0:\n",
    "        return(0)    \n",
    "    elif b == 0:\n",
    "        return(99999)\n",
    "    \n",
    "    else:\n",
    "        return(a/b)\n",
    "    \n",
    "def Desired_Parms(R_matrix): #This extracts the ratios of R values we are interested in\n",
    "    \n",
    "    comp1 =  R_matrix[0,0]\n",
    "    comp2 =  R_matrix[0,1]\n",
    "    comp3 =  R_matrix[3,3]\n",
    "    comp4 =  R_matrix[2,3]\n",
    "    \n",
    "    return(comp1, comp2, comp3, comp4)\n",
    "    \n",
    "def Construct_line(elements): #This function, given a list of lenses and drift spaces, multiplies them out \n",
    "                              #and returns the R matrix for each step.\n",
    "    \n",
    "    partial_Rs = []\n",
    "    R_matrix = sy.Matrix([[1,0],[0,1]])\n",
    "    \n",
    "    for component in elements:\n",
    "        R_matrix = component@R_matrix\n",
    "        partial_Rs.append(R_matrix)\n",
    "        \n",
    "    return(partial_Rs)  \n",
    "  \n",
    "def Locate_Arrows(list_of_dict):#, list_of_variables_used_x):\n",
    "    \n",
    "    position = 0\n",
    "    y = []    \n",
    "    dy = []\n",
    "    \n",
    "    for dictionary in list_of_dict:\n",
    "        \n",
    "        if dictionary['type'] == 'defocus' : \n",
    "            \n",
    "            y.append(dictionary['apt']/2)\n",
    "            dy.append(dictionary['apt']/2)\n",
    "            \n",
    "        elif dictionary['type'] == 'focus':\n",
    "\n",
    "            y.append(dictionary['apt'])\n",
    "            dy.append(-dictionary['apt']/2)\n",
    "            \n",
    "    return(y,dy)"
   ]
  },
  {
   "cell_type": "code",
   "execution_count": 4,
   "metadata": {},
   "outputs": [],
   "source": [
    "#enter the paraeters wanted here. Can be easily expanded\n",
    "\n",
    "L_D = 10\n",
    "init_dist = 5"
   ]
  },
  {
   "cell_type": "code",
   "execution_count": 5,
   "metadata": {},
   "outputs": [],
   "source": [
    "f_x = sy.Symbol( 'f_x', real=True)\n",
    "f_y = sy.Symbol( 'f_y', real=True)\n",
    "Ld_x = sy.Symbol( 'Ld_x', real=True)\n",
    "#Ld_x = f_x + f_x\n",
    "#Ld_y = f_y + f_y\n",
    "Ld_y = sy.Symbol( 'Ld_y', real=True)\n",
    "a = sy.Symbol( 'a', real=True)\n",
    "b = sy.Symbol( 'b', real=True)\n",
    "\n",
    "\n",
    "focus_x = Create_Focusing_Magnet(f_x, 5)\n",
    "focus_y = Create_Focusing_Magnet(f_y, 5)\n",
    "\n",
    "defocus_x = Create_Defocusing_Magnet(f_x, 5)\n",
    "defocus_y = Create_Defocusing_Magnet(f_y, 5)\n",
    "\n",
    "double_focus_x = Create_Focusing_Magnet(0.5*f_x, 5)\n",
    "double_focus_y = Create_Focusing_Magnet(0.5*f_y, 5)\n",
    "\n",
    "double_defocus_x = Create_Defocusing_Magnet(0.5*f_x, 5)\n",
    "double_defocus_y = Create_Defocusing_Magnet(0.5*f_y, 5)\n",
    "\n",
    "drift_x = Create_Drift_Space(Ld_x)\n",
    "drift_y = Create_Drift_Space(Ld_y)\n",
    "\n",
    "first_drift_x = Create_Drift_Space(a)\n",
    "first_drift_y = Create_Drift_Space(a)\n",
    "\n",
    "last_drift_x = Create_Drift_Space(b)\n",
    "last_drift_y = Create_Drift_Space(b)\n",
    "\n",
    "list_of_variables_used_x = [Ld_x, a, f_x, b]\n",
    "list_of_variables_used_y = [Ld_y, a, f_y, b]\n",
    "\n",
    "values_of_vars_x = [L_D, init_dist]\n",
    "values_of_vars_y = [L_D, init_dist]"
   ]
  },
  {
   "cell_type": "code",
   "execution_count": 6,
   "metadata": {},
   "outputs": [],
   "source": [
    "#dicts_used_x = [ first_drift_x, focus_x, drift_x, double_defocus_x, drift_x, focus_x, last_drift_x]\n",
    "#dicts_used_y = [ first_drift_y, defocus_y, drift_y, double_focus_y, drift_y, defocus_y, last_drift_y]\n",
    "\n",
    "dicts_used_x = [ first_drift_x, focus_x,  drift_x, focus_x, last_drift_x]\n",
    "dicts_used_y = [ first_drift_y, defocus_y, drift_y, defocus_y, last_drift_y]\n",
    "\n",
    "\n",
    "#here we list the elements(ie quadrupoles and drifts) used in order\n",
    "\n",
    "elements_used_x = []\n",
    "elements_used_y = []\n",
    "\n",
    "for dict_x, dict_y in zip(dicts_used_x, dicts_used_y):\n",
    "\n",
    "    elements_used_x.append(dict_x['matrix'])\n",
    "    elements_used_y.append(dict_y['matrix'])\n",
    "    \n",
    "#This block multiplies together the matrices given above, extractiong the R matrix for each step\n",
    "\n",
    "R_in_x = sy.simplify(Construct_line(elements_used_x))\n",
    "R_in_y = sy.simplify(Construct_line(elements_used_y))"
   ]
  },
  {
   "cell_type": "code",
   "execution_count": 7,
   "metadata": {},
   "outputs": [],
   "source": [
    "focus = sy.lambdify([Ld_x, a], R_in_x[-1][1,0], 'numpy')\n",
    "solutions_f = sy.solve(focus(L_D, init_dist), f_x)\n",
    "if len(solutions_f)==0:\n",
    "    f = 100000000\n",
    "    print(\"Warning: solutions are independant of the focus!\")\n",
    "elif len(solutions_f)==1:\n",
    "    f = sy.N(solutions_f[0]) #N is sympy for evaluating\n",
    "else:\n",
    "    \n",
    "    f = sy.N(min(n for n in solutions_f if n > 0))"
   ]
  },
  {
   "cell_type": "code",
   "execution_count": 8,
   "metadata": {},
   "outputs": [],
   "source": [
    "elem12 = sy.lambdify([Ld_x, f_x, a], R_in_x[-1][0,1], 'numpy')\n",
    "solutions = sy.solve(elem12(L_D, f, init_dist))\n",
    "if len(solutions)==0:\n",
    "    fin_dist = 1000000\n",
    "    print(\"Warning: solutions are independant of the final distance!\")\n",
    "elif len(solutions)==1:\n",
    "    fin_dist = sy.N(solutions[0])\n",
    "else:\n",
    "    fin_dist = sy.N(min(n for n in solutions if n > 0)) "
   ]
  },
  {
   "cell_type": "code",
   "execution_count": 9,
   "metadata": {},
   "outputs": [],
   "source": [
    "values_of_vars_x.append(f)\n",
    "values_of_vars_x.append(fin_dist)\n",
    "values_of_vars_y.append(-f)\n",
    "values_of_vars_y.append(fin_dist)"
   ]
  },
  {
   "cell_type": "code",
   "execution_count": 10,
   "metadata": {},
   "outputs": [
    {
     "name": "stdout",
     "output_type": "stream",
     "text": [
      "Focusing strength is: 5.000\n",
      "Initial length 5.000\n",
      "Final lenght: 5.000\n"
     ]
    }
   ],
   "source": [
    "print(\"Focusing strength is: %3.3f\" %(f))\n",
    "print(\"Initial length %3.3f\" %(init_dist))\n",
    "print(\"Final lenght: %3.3f\" %(fin_dist) )"
   ]
  },
  {
   "cell_type": "code",
   "execution_count": 11,
   "metadata": {},
   "outputs": [],
   "source": [
    "R_in_x = Matrix_eval(R_in_x, *list_of_variables_used_x, *values_of_vars_x)\n",
    "R_in_y = Matrix_eval(R_in_y, *list_of_variables_used_y, *values_of_vars_y)\n"
   ]
  },
  {
   "cell_type": "code",
   "execution_count": 12,
   "metadata": {},
   "outputs": [],
   "source": [
    "pos_magnets_x = [0]\n",
    "pos_magnets_y = [0]\n",
    "pos_elements_x = []\n",
    "pos_elements_y = []\n",
    "\n",
    "\n",
    "for dict_x, dict_y in zip(dicts_used_x, dicts_used_y):\n",
    "    \n",
    "    xval = sy.lambdify(list_of_variables_used_x, dict_x['length'])\n",
    "    yval = sy.lambdify(list_of_variables_used_y, dict_y['length'])\n",
    "    \n",
    "    new_x = xval(*values_of_vars_x) + pos_magnets_x[-1]\n",
    "    new_y = yval(*values_of_vars_y) + pos_magnets_y[-1]\n",
    "    \n",
    "    if new_x != pos_magnets_x[-1]:  \n",
    "        pos_magnets_x.append( 2* new_x )\n",
    "        \n",
    "    if new_y != pos_magnets_y[-1]:\n",
    "        pos_magnets_y.append( 2* new_y )\n",
    "\n",
    "    pos_elements_x.append(new_x)\n",
    "    pos_elements_y.append(new_y)\n",
    "        \n",
    "pos_magnets_x = pos_magnets_x[1:]\n",
    "pos_magnets_y = pos_magnets_y[1:]"
   ]
  },
  {
   "cell_type": "code",
   "execution_count": 13,
   "metadata": {},
   "outputs": [],
   "source": [
    "#Here we pull out the ratios we are interested in\n",
    "\n",
    "ratios = []\n",
    "R11 = []\n",
    "R12 = []\n",
    "R33 = []\n",
    "R34 = []\n",
    "#can easily remove one of loops here in future\n",
    "\n",
    "for x, y in zip(R_in_x, R_in_y):\n",
    "    ratios.append(Desired_Parms(Full_R_Matrix(x,y)))\n",
    "    \n",
    "for item in ratios:\n",
    "    R11.append(item[0])\n",
    "    R12.append(item[1])\n",
    "    R33.append(item[2])\n",
    "    R34.append(item[3])"
   ]
  },
  {
   "cell_type": "code",
   "execution_count": 14,
   "metadata": {},
   "outputs": [
    {
     "data": {
      "text/latex": [
       "$\\displaystyle \\left[\\begin{matrix}-1.0 & 0 & 0 & 0\\\\0 & -1.0 & 0 & 0\\\\0 & 0 & -1.0 & 0\\\\0 & 0 & 0 & -1.0\\end{matrix}\\right]$"
      ],
      "text/plain": [
       "⎡-1.0   0     0     0  ⎤\n",
       "⎢                      ⎥\n",
       "⎢ 0    -1.0   0     0  ⎥\n",
       "⎢                      ⎥\n",
       "⎢ 0     0    -1.0   0  ⎥\n",
       "⎢                      ⎥\n",
       "⎣ 0     0     0    -1.0⎦"
      ]
     },
     "execution_count": 14,
     "metadata": {},
     "output_type": "execute_result"
    }
   ],
   "source": [
    "Full_R_Matrix(R_in_x[-1],R_in_y[-1])"
   ]
  },
  {
   "cell_type": "code",
   "execution_count": 15,
   "metadata": {},
   "outputs": [
    {
     "name": "stdout",
     "output_type": "stream",
     "text": [
      "R matrix values are:\n",
      "[ -1.00, 0.00, -1.00, 0.00 ]\n"
     ]
    }
   ],
   "source": [
    "print(\"R matrix values are:\")\n",
    "if fin_dist > 0:\n",
    "    print(\"[ %3.2f, %3.2f, %3.2f, %3.2f ]\" %(R11[-1], R12[-1], R33[-1], R34[-1]))\n",
    "\n",
    "else:\n",
    "    print(\"Not allowing a telescope, but values would be\")\n",
    "    print(\"[ %3.2f, %3.2f, %3.2f, %3.2f ]\" %(R11[-1], R12[-1], R33[-1], R34[-1]))"
   ]
  },
  {
   "cell_type": "code",
   "execution_count": 16,
   "metadata": {},
   "outputs": [
    {
     "data": {
      "image/png": "[encoded data removed]",
      "text/plain": [
       "<Figure size 432x288 with 1 Axes>"
      ]
     },
     "metadata": {
      "needs_background": "light"
     },
     "output_type": "display_data"
    },
    {
     "data": {
      "image/png": "[encoded data removed]",
      "text/plain": [
       "<Figure size 432x288 with 1 Axes>"
      ]
     },
     "metadata": {
      "needs_background": "light"
     },
     "output_type": "display_data"
    }
   ],
   "source": [
    "#Plot the various R values. Each element is at an integer value, but this can be easily changed later\n",
    "\n",
    "plt.plot(pos_elements_x, R11, 'g', label = \"R11\" )\n",
    "plt.plot(pos_elements_x, R12, 'b', label = \"R12\")\n",
    "xy, xdy = Locate_Arrows(dicts_used_x)\n",
    "\n",
    "for x,y,dx,dy in zip(pos_magnets_x, xy, np.zeros(len(pos_magnets_x)), xdy):\n",
    "    plt.arrow(x, y, dx, dy, color = 'r', head_width=0.7, head_length=0.5)\n",
    "    plt.arrow(x, -y, dx, -dy, color = 'r', head_width=0.7, head_length=0.5)\n",
    "\n",
    "plt.plot([0, max(pos_elements_x)],[0, 0], '--r')\n",
    "plt.xlim(left=0)\n",
    "plt.ylim(-10,10)\n",
    "plt.legend(loc = 2)\n",
    "plt.show()\n",
    "\n",
    "plt.plot(pos_elements_y, R33, 'g', label = \"R33\")\n",
    "plt.plot(pos_elements_y, R34, 'b', label = \"R34\")\n",
    "yy, ydy = Locate_Arrows(dicts_used_y)\n",
    "\n",
    "for x,y,dx,dy in zip(pos_magnets_y, yy, np.zeros(len(pos_magnets_y)), ydy):\n",
    "    plt.arrow(x, y, dx, dy, color = 'r', head_width=0.7, head_length=0.5)\n",
    "    plt.arrow(x, -y, dx, -dy, color = 'r', head_width=0.7, head_length=0.5)\n",
    "\n",
    "plt.plot([0, max(pos_elements_y)],[0, 0], '--r')\n",
    "plt.ylim(-10,10)\n",
    "plt.xlim(left=0)\n",
    "plt.legend(loc = 2)\n",
    "plt.show()"
   ]
  },
  {
   "cell_type": "code",
   "execution_count": 21,
   "metadata": {},
   "outputs": [
    {
     "data": {
      "image/png": "[encoded data removed]",
      "text/latex": [
       "$\\displaystyle \\left[ 1, \\  1, \\  -1.0, \\  -1.0, \\  -1.0\\right]$"
      ],
      "text/plain": [
       "[1, 1, -1.0, -1.0, -1.0]"
      ]
     },
     "execution_count": 21,
     "metadata": {},
     "output_type": "execute_result"
    }
   ],
   "source": [
    "R11"
   ]
  },
  {
   "cell_type": "code",
   "execution_count": 22,
   "metadata": {},
   "outputs": [
    {
     "data": {
      "image/png": "[encoded data removed]",
      "text/latex": [
       "$\\displaystyle \\left[ 5, \\  5, \\  5, \\  5, \\  0\\right]$"
      ],
      "text/plain": [
       "[5, 5, 5, 5, 0]"
      ]
     },
     "execution_count": 22,
     "metadata": {},
     "output_type": "execute_result"
    }
   ],
   "source": [
    "R34"
   ]
  },
  {
   "cell_type": "code",
   "execution_count": 23,
   "metadata": {},
   "outputs": [
    {
     "data": {
      "image/png": "[encoded data removed]",
      "text/latex": [
       "$\\displaystyle \\left[ 1, \\  0, \\  0, \\  -1.0, \\  -1.0\\right]$"
      ],
      "text/plain": [
       "[1, 0, 0, -1.0, -1.0]"
      ]
     },
     "execution_count": 23,
     "metadata": {},
     "output_type": "execute_result"
    }
   ],
   "source": [
    "R33"
   ]
  },
  {
   "cell_type": "code",
   "execution_count": 24,
   "metadata": {},
   "outputs": [
    {
     "data": {
      "image/png": "[encoded data removed]",
      "text/latex": [
       "$\\displaystyle \\left[ 5, \\  5, \\  15, \\  15, \\  20.0\\right]$"
      ],
      "text/plain": [
       "[5, 5, 15, 15, 20.0]"
      ]
     },
     "execution_count": 24,
     "metadata": {},
     "output_type": "execute_result"
    }
   ],
   "source": [
    "pos_elements_x"
   ]
  },
  {
   "cell_type": "code",
   "execution_count": 25,
   "metadata": {},
   "outputs": [
    {
     "data": {
      "image/png": "[encoded data removed]",
      "text/latex": [
       "$\\displaystyle \\left[ 5, \\  5, \\  15, \\  15, \\  20.0\\right]$"
      ],
      "text/plain": [
       "[5, 5, 15, 15, 20.0]"
      ]
     },
     "execution_count": 25,
     "metadata": {},
     "output_type": "execute_result"
    }
   ],
   "source": [
    "pos_elements_y"
   ]
  },
  {
   "cell_type": "code",
   "execution_count": null,
   "metadata": {},
   "outputs": [],
   "source": []
  }
 ],
 "metadata": {
  "anaconda-cloud": {},
  "kernelspec": {
   "display_name": "Python 3",
   "language": "python",
   "name": "python3"
  },
  "language_info": {
   "codemirror_mode": {
    "name": "ipython",
    "version": 3
   },
   "file_extension": ".py",
   "mimetype": "text/x-python",
   "name": "python",
   "nbconvert_exporter": "python",
   "pygments_lexer": "ipython3",
   "version": "3.7.4"
  }
 },
 "nbformat": 4,
 "nbformat_minor": 2
}
