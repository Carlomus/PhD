{
 "cells": [
  {
   "cell_type": "code",
   "execution_count": 1,
   "metadata": {},
   "outputs": [],
   "source": [
    "import numpy as np\n",
    "import matplotlib.pyplot as plt\n",
    "import os\n",
    "import csv\n",
    "from scipy.optimize import curve_fit"
   ]
  },
  {
   "cell_type": "code",
   "execution_count": 2,
   "metadata": {},
   "outputs": [],
   "source": [
    "particles = {\n",
    "    '-6': '4-HELIUM',\n",
    "    '-5': '3-HELIUM',\n",
    "    '-4': 'TRITON',\n",
    "    '-3': 'DEUTERON',\n",
    "    '-2': 'HEAVYION',\n",
    "    '1' : 'PROTON'  ,\n",
    "    '2' : 'HEAVYION', \n",
    "    '3' : 'ELECTRON',\n",
    "    '4' : 'POSITRON',\n",
    "    '5' : 'NEUTRIE',\n",
    "    '6' : 'ANEUTRIE',\n",
    "    '7' : 'PHOTON',\n",
    "    '8' : 'NEUTRON',\n",
    "    '9' : 'ANEUTRON',\n",
    "    '10': 'MUON+',\n",
    "    '11': 'MUON-',\n",
    "    '12': 'KAONLONG',\n",
    "    '13': 'PION+',\n",
    "    '14': 'PION-',\n",
    "    '15': 'KAON+',\n",
    "    '16': 'KAON-', \n",
    "    '17': 'LAMBDA',\n",
    "    '18': 'ALAMBDA',\n",
    "    '19': 'KAONSHORT',\n",
    "    '20': 'SIGMA-',\n",
    "    '21': 'SIGMA+',\n",
    "    '22': 'SIGMAZER',\n",
    "    '23': 'PIZERO',\n",
    "    '24': 'KAONZERO',\n",
    "    '25': 'AKAONZER',\n",
    "    '31': 'ASIGMA-',\n",
    "    '32': 'ASIGMAZE',\n",
    "    '33': 'ASIGMA+',\n",
    "    '34': 'XSIZERO',    \n",
    "    '35': 'AXSIZERO',\n",
    "    '36': 'XSI-',\n",
    "    '37': 'AXSI+',\n",
    "    '38': 'OMEGA-',\n",
    "    '39': 'AOMEGA-'\n",
    "    \n",
    "}\n",
    "\n",
    "mass = {\n",
    "    'PIZERO': 135.0,\n",
    "    'PION+' : 139.6,\n",
    "    'PION-' : 139.6,\n",
    "    'PROTON': 938.3,\n",
    "    'KAONZERO' : 497.6,\n",
    "    'AKAONZER' : 497.6,\n",
    "    'KAON+'    : 493.7,\n",
    "    'KAON-'    : 493.7,\n",
    "    'KAONSHORT': 497.6,\n",
    "    'KAONLONG' : 497.6\n",
    "    \n",
    "}"
   ]
  },
  {
   "cell_type": "code",
   "execution_count": 3,
   "metadata": {},
   "outputs": [],
   "source": [
    "def TotMomentum(px, py,pz):\n",
    "    p = (px **2 + py **2 + pz**2 )**0.5\n",
    "    return(p)\n",
    "\n",
    "def Angle(pdir, ptot, px): #pdid is momentum in direction of beam (ie z)\n",
    "    theta = np.arccos(pdir/ptot)\n",
    "    if px > 0: #Give directionality to the angle using x arbitrarily\n",
    "        return(theta)\n",
    "    else:\n",
    "        return(-theta)\n",
    "    \n",
    "def Gauss(x, a, x0, mu): #Define gaussian for fit\n",
    "    return a*np.exp(-(x-x0)**2/(2*mu))"
   ]
  },
  {
   "cell_type": "code",
   "execution_count": 4,
   "metadata": {},
   "outputs": [],
   "source": [
    "def PlottableData(eventList, particleInterested, nominalEnergy, massDict = mass, acceptance = 0.1): #from the list of events \n",
    "                                      #returns the angle. For the masses in calculation defaults to dictionary defined above\n",
    "    direction = list()\n",
    "    \n",
    "    for item in eventList:\n",
    "        \n",
    "        if item[0] == particleInterested: \n",
    "            \n",
    "            pTot = TotMomentum(*item[2])\n",
    "            \n",
    "            #eneries from data in GeV but mass in MeV, so converted when used\n",
    "            eventEnergy = (pTot ** 2 + (mass[particleInterested] * 10 **-3)** 2) **0.5 \n",
    "            #remove particles if momentum spread too large\n",
    "            if abs(eventEnergy-nominalEnergy)/nominalEnergy <= acceptance: \n",
    "                direction.append(Angle(item[2][2], pTot, item[2][0]))\n",
    "    return(direction)"
   ]
  },
  {
   "cell_type": "code",
   "execution_count": 5,
   "metadata": {},
   "outputs": [],
   "source": [
    "material = \"carbon\"\n",
    "material = material.upper()\n",
    "length = 47\n",
    "energy = 400\n",
    "\n",
    "particleInterested = 'pion+'\n",
    "particleInterested = particleInterested.upper()\n",
    "\n",
    "nominalEnergyList = [4, 6, 8.5]\n",
    "\n",
    "path = r'C:\\Users\\mussolini\\Desktop\\PhD general\\Impinging'\n",
    "folderName = material + \"_\" + str(length) + \"cm_\" + str(energy) + \"GeV\"\n",
    "\n",
    "fullpath = os.path.join(path, folderName)\n",
    "\n",
    "file = fullpath + r\"/input_0.dat\" "
   ]
  },
  {
   "cell_type": "code",
   "execution_count": 6,
   "metadata": {},
   "outputs": [],
   "source": [
    "eventList = list() #list of type, position list, momentum list for each particle\n",
    "\n",
    "with open(file, mode = 'r') as infile:\n",
    "    reader = csv.reader(infile)\n",
    "    for i, line in enumerate(reader):\n",
    "\n",
    "        pclePos = []\n",
    "        pcleMmt = []\n",
    "        \n",
    "        particleType = particles[line[0].split()[1]] #save particle id\n",
    "        \n",
    "        pclePos.append(float(line[0].split()[2])) #save psition in x\n",
    "        pclePos.append(float(line[0].split()[3])) #y\n",
    "        pclePos.append(float(line[0].split()[4])) #z\n",
    "        \n",
    "        pcleMmt.append(float(line[0].split()[5])) #save momentum in x \n",
    "        pcleMmt.append(float(line[0].split()[6])) #y\n",
    "        pcleMmt.append(float(line[0].split()[7])) #z\n",
    "        \n",
    "        eventList.append([particleType, pclePos, pcleMmt])"
   ]
  },
  {
   "cell_type": "code",
   "execution_count": 11,
   "metadata": {},
   "outputs": [
    {
     "name": "stdout",
     "output_type": "stream",
     "text": [
      "Standard deviation of: 7.87E-02 rads at 4.0 GeV\n",
      "Standard deviation of: 5.85E-02 rads at 6.0 GeV\n",
      "Standard deviation of: 3.96E-02 rads at 8.5 GeV\n"
     ]
    },
    {
     "data": {
      "image/png": "[encoded data removed]",
      "text/plain": [
       "<Figure size 432x288 with 1 Axes>"
      ]
     },
     "metadata": {
      "needs_background": "light"
     },
     "output_type": "display_data"
    }
   ],
   "source": [
    "for nominalEnergy in nominalEnergyList:\n",
    "    direction = np.asarray(PlottableData(eventList, particleInterested, nominalEnergy))\n",
    "    weights = abs(np.sin(direction)**-1) #will need to be weighted as spherical coordinate\n",
    "    \n",
    "    binHeight, binEnds = np.histogram(direction, weights = weights, bins = int(len(direction)**0.5))\n",
    "    binCenters = (binEnds[:-1] + binEnds[1:])/2\n",
    "    mean = np.mean(direction/weights)\n",
    "    mu = np.std(direction/weights)**2 #variance\n",
    "    \n",
    "    popt, pcov = curve_fit(Gauss,binCenters,binHeight,p0=[1,mean,mu]) #get optimal gaussian parameters, p0 is initial guess\n",
    "    #popt has same form as p0, ie amplitude, mean, mu \n",
    "    \n",
    "    plt.plot(binCenters, Gauss(binCenters, *popt), 'r-', alpha = 0.5)\n",
    "    plt.hist(direction, bins = int(len(direction)**0.5), weights  = weights, label = str(nominalEnergy) + ' GeV' , alpha = 0.5)\n",
    "    plt.title(particleInterested.capitalize() + ' impinging on a ' + str(length) + ' cm ' + material.lower() + ' target' )\n",
    "    print(\"Standard deviation of: %2.2E rads at %2.1f GeV\" %(popt[2]**0.5, nominalEnergy))\n",
    "    \n",
    "plt.legend(title = \"Nominal energy (+-10%):\")\n",
    "plt.xlabel('Theta (radians)')\n",
    "plt.savefig(path + '\\\\' + folderName)\n",
    "plt.show()"
   ]
  },
  {
   "cell_type": "code",
   "execution_count": null,
   "metadata": {},
   "outputs": [],
   "source": []
  }
 ],
 "metadata": {
  "kernelspec": {
   "display_name": "Python 3",
   "language": "python",
   "name": "python3"
  },
  "language_info": {
   "codemirror_mode": {
    "name": "ipython",
    "version": 3
   },
   "file_extension": ".py",
   "mimetype": "text/x-python",
   "name": "python",
   "nbconvert_exporter": "python",
   "pygments_lexer": "ipython3",
   "version": "3.7.4"
  }
 },
 "nbformat": 4,
 "nbformat_minor": 2
}
